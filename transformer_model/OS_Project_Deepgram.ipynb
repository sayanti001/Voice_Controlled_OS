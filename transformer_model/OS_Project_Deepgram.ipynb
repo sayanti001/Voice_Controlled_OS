{
  "nbformat": 4,
  "nbformat_minor": 0,
  "metadata": {
    "colab": {
      "provenance": []
    },
    "kernelspec": {
      "name": "python3",
      "display_name": "Python 3"
    },
    "language_info": {
      "name": "python"
    }
  },
  "cells": [
    {
      "cell_type": "code",
      "source": [
        "! pip install deepgram-sdk==2.12.0 requests ffmpeg-python"
      ],
      "metadata": {
        "colab": {
          "base_uri": "https://localhost:8080/"
        },
        "id": "5IVSFVI7-PIX",
        "outputId": "f3591cd4-100d-4a3c-dfaf-aeac203dde34"
      },
      "execution_count": 1,
      "outputs": [
        {
          "output_type": "stream",
          "name": "stdout",
          "text": [
            "Requirement already satisfied: deepgram-sdk==2.12.0 in /usr/local/lib/python3.10/dist-packages (2.12.0)\n",
            "Requirement already satisfied: requests in /usr/local/lib/python3.10/dist-packages (2.31.0)\n",
            "Requirement already satisfied: ffmpeg-python in /usr/local/lib/python3.10/dist-packages (0.2.0)\n",
            "Requirement already satisfied: aiohttp in /usr/local/lib/python3.10/dist-packages (from deepgram-sdk==2.12.0) (3.9.3)\n",
            "Requirement already satisfied: websockets in /usr/local/lib/python3.10/dist-packages (from deepgram-sdk==2.12.0) (12.0)\n",
            "Requirement already satisfied: charset-normalizer<4,>=2 in /usr/local/lib/python3.10/dist-packages (from requests) (3.3.2)\n",
            "Requirement already satisfied: idna<4,>=2.5 in /usr/local/lib/python3.10/dist-packages (from requests) (3.6)\n",
            "Requirement already satisfied: urllib3<3,>=1.21.1 in /usr/local/lib/python3.10/dist-packages (from requests) (2.0.7)\n",
            "Requirement already satisfied: certifi>=2017.4.17 in /usr/local/lib/python3.10/dist-packages (from requests) (2024.2.2)\n",
            "Requirement already satisfied: future in /usr/local/lib/python3.10/dist-packages (from ffmpeg-python) (0.18.3)\n",
            "Requirement already satisfied: aiosignal>=1.1.2 in /usr/local/lib/python3.10/dist-packages (from aiohttp->deepgram-sdk==2.12.0) (1.3.1)\n",
            "Requirement already satisfied: attrs>=17.3.0 in /usr/local/lib/python3.10/dist-packages (from aiohttp->deepgram-sdk==2.12.0) (23.2.0)\n",
            "Requirement already satisfied: frozenlist>=1.1.1 in /usr/local/lib/python3.10/dist-packages (from aiohttp->deepgram-sdk==2.12.0) (1.4.1)\n",
            "Requirement already satisfied: multidict<7.0,>=4.5 in /usr/local/lib/python3.10/dist-packages (from aiohttp->deepgram-sdk==2.12.0) (6.0.5)\n",
            "Requirement already satisfied: yarl<2.0,>=1.0 in /usr/local/lib/python3.10/dist-packages (from aiohttp->deepgram-sdk==2.12.0) (1.9.4)\n",
            "Requirement already satisfied: async-timeout<5.0,>=4.0 in /usr/local/lib/python3.10/dist-packages (from aiohttp->deepgram-sdk==2.12.0) (4.0.3)\n"
          ]
        }
      ]
    },
    {
      "cell_type": "code",
      "source": [
        "from deepgram import Deepgram\n",
        "import asyncio, json, os"
      ],
      "metadata": {
        "id": "4Kjf0Mp7-dkv"
      },
      "execution_count": 2,
      "outputs": []
    },
    {
      "cell_type": "code",
      "source": [
        "dg_key = '47751687a6d15fd18e646296e27333fdefb348dc'\n",
        "dg = Deepgram(dg_key)\n",
        "MIMETYPE = 'aac'\n",
        "DIRECTORY = '.'\n",
        "\n",
        "params = {\n",
        "    \"punctuate\": True,\n",
        "    \"model\": 'general',\n",
        "    \"tier\": 'nova'\n",
        "}"
      ],
      "metadata": {
        "id": "a5QfPEF6-1zP"
      },
      "execution_count": 3,
      "outputs": []
    },
    {
      "cell_type": "code",
      "source": [
        "def main():\n",
        "    audio_folder = os.listdir(DIRECTORY)\n",
        "    for audio_file in audio_folder:\n",
        "        if audio_file.endswith(MIMETYPE):\n",
        "          with open(f\"{DIRECTORY}/{audio_file}\", \"rb\") as f:\n",
        "              source = {\"buffer\": f, \"mimetype\":'audio/'+MIMETYPE}\n",
        "              res = dg.transcription.sync_prerecorded(source, params)\n",
        "              with open(f\"./{audio_file[:-4]}.json\", \"w\") as transcript:\n",
        "                  json.dump(res, transcript)\n",
        "    return\n",
        "\n",
        "main()"
      ],
      "metadata": {
        "id": "tJKC4Nus_SjM"
      },
      "execution_count": 4,
      "outputs": []
    },
    {
      "cell_type": "code",
      "source": [
        "OUTPUT = '/content/WhatsApp Audio 2024-03-04 at 8.48.17 PM.json'\n",
        "\n",
        "def print_transcript(transcription_file):\n",
        "  with open(transcription_file, \"r\") as file:\n",
        "        data = json.load(file)\n",
        "        result = data['results']['channels'][0]['alternatives'][0]['transcript']\n",
        "        result = result.split('.')\n",
        "        for sentence in result:\n",
        "          print(sentence + '.')\n",
        "\n",
        "print_transcript(OUTPUT)"
      ],
      "metadata": {
        "colab": {
          "base_uri": "https://localhost:8080/"
        },
        "id": "CawTF-RR-58c",
        "outputId": "27f480f9-84e7-4949-a599-53522b1b4903"
      },
      "execution_count": 6,
      "outputs": [
        {
          "output_type": "stream",
          "name": "stdout",
          "text": [
            "Make folder Alpine, copy Alpine to home.\n",
            " Removed for.\n"
          ]
        }
      ]
    }
  ]
}