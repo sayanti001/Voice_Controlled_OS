{
  "nbformat": 4,
  "nbformat_minor": 0,
  "metadata": {
    "colab": {
      "provenance": []
    },
    "kernelspec": {
      "name": "python3",
      "display_name": "Python 3"
    },
    "language_info": {
      "name": "python"
    }
  },
  "cells": [
    {
      "cell_type": "markdown",
      "source": [
        "Pre-requisites and required modules"
      ],
      "metadata": {
        "id": "MNIBkjfkFIGF"
      }
    },
    {
      "cell_type": "code",
      "execution_count": null,
      "metadata": {
        "id": "mC8OPVdgFEMa"
      },
      "outputs": [],
      "source": [
        "! pip install deepgram-sdk==2.12.0 requests ffmpeg-python\n",
        "from deepgram import Deepgram\n",
        "import asyncio, json, os"
      ]
    },
    {
      "cell_type": "markdown",
      "source": [
        "Speech-to-Text transcribe function\n",
        "\n",
        "---\n",
        "takes audio file path as input and returns the transcribed text as output\n"
      ],
      "metadata": {
        "id": "2vfcaHGwFk5A"
      }
    },
    {
      "cell_type": "code",
      "source": [
        "def transcribe(audio_file):\n",
        "\n",
        "  dg_key = '47751687a6d15fd18e646296e27333fdefb348dc'\n",
        "  dg = Deepgram(dg_key)\n",
        "  MIMETYPE = 'webm'\n",
        "  DIRECTORY = '.'\n",
        "\n",
        "  params = {\n",
        "      \"punctuate\": True,\n",
        "      \"model\": 'general',\n",
        "      \"tier\": 'nova'\n",
        "  }\n",
        "\n",
        "  if audio_file.endswith(MIMETYPE):\n",
        "    with open(f\"{DIRECTORY}/{audio_file}\", \"rb\") as f:\n",
        "      source = {\"buffer\": f, \"mimetype\":'audio/'+MIMETYPE}\n",
        "      res = dg.transcription.sync_prerecorded(source, params)\n",
        "      with open(f\"./{audio_file[:-4]}.json\", \"w\") as transcript:\n",
        "        json.dump(res, transcript)\n",
        "\n",
        "  transcript = f\"./{audio_file[:-4]}.json\"\n",
        "\n",
        "  with open(transcript, \"r\") as file:\n",
        "    data = json.load(file)\n",
        "    result = data['results']['channels'][0]['alternatives'][0]['transcript']\n",
        "    return result"
      ],
      "metadata": {
        "id": "WGCAnhgFFub4"
      },
      "execution_count": null,
      "outputs": []
    }
  ]
}